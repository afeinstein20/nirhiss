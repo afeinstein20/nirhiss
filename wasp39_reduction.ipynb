{
 "cells": [
  {
   "cell_type": "code",
   "execution_count": 15,
   "id": "cb57df65",
   "metadata": {},
   "outputs": [],
   "source": [
    "import time\n",
    "import h5py\n",
    "import os, sys\n",
    "import numpy as np\n",
    "from astropy.io import fits\n",
    "from scipy.signal import savgol_filter\n",
    "from scipy.ndimage import gaussian_filter\n",
    "from tqdm import tqdm_notebook\n",
    "import matplotlib.pyplot as plt\n",
    "\n",
    "from scipy.io import wavfile\n",
    "from scipy.optimize import minimize\n",
    "from scipy.interpolate import interp2d, interp1d\n",
    "from scipy.interpolate import NearestNDInterpolator\n",
    "\n",
    "import ccdproc as ccdp\n",
    "from astropy import units\n",
    "from astropy.nddata import CCDData\n",
    "from tqdm import tqdm_notebook\n",
    "from scipy.interpolate import interp1d\n",
    "from astropy.table import Table, Column\n",
    "\n",
    "%load_ext autoreload\n",
    "%autoreload 2\n",
    "\n",
    "from niriss import clipping\n",
    "from niriss import masking\n",
    "from niriss import background\n",
    "from niriss.niriss_extraction import (dirty_mask, optimal_extraction_routine,\n",
    "                                      box_extract)\n",
    "from niriss.tracing_niriss import mask_method_ears\n",
    "\n",
    "from matplotlib.colors import ListedColormap\n",
    "pmap = ListedColormap(np.load('/Users/belugawhale/parula_data.npy'))\n",
    "colors = np.load('/Users/belugawhale/parula_colors.npy')\n",
    "\n",
    "COLOR = 'k'\n",
    "plt.rcParams['font.size'] = 20\n",
    "plt.rcParams['text.color'] = COLOR\n",
    "plt.rcParams['axes.labelcolor'] = COLOR\n",
    "plt.rcParams['xtick.color'] = COLOR\n",
    "plt.rcParams['ytick.color'] = COLOR\n",
    "\n",
    "plt.rcParams['xtick.major.width'] = 3\n",
    "plt.rcParams['ytick.major.width'] = 3\n",
    "plt.rcParams['xtick.major.size']  = 10 #12\n",
    "plt.rcParams['ytick.major.size']  = 10 #12\n",
    "\n",
    "plt.rcParams['xtick.minor.width'] = 1\n",
    "plt.rcParams['ytick.minor.width'] = 1\n",
    "plt.rcParams['xtick.minor.size']  = 6\n",
    "plt.rcParams['ytick.minor.size']  = 6\n",
    "\n",
    "plt.rcParams['axes.linewidth'] = 3\n",
    "\n",
    "plt.rcParams['font.size'] = 20\n",
    "plt.rcParams['text.color'] = COLOR\n",
    "plt.rcParams['xtick.color'] = COLOR\n",
    "plt.rcParams['ytick.color'] = COLOR\n",
    "plt.rcParams['axes.labelcolor'] = COLOR\n",
    "plt.rcParams['axes.spines.top'] = True\n",
    "plt.rcParams['axes.spines.right'] = True\n",
    "plt.rcParams['axes.labelcolor'] = COLOR\n",
    "plt.rcParams['axes.edgecolor'] = COLOR\n",
    "plt.rcParams['figure.facecolor'] = 'none'\n",
    "plt.rcParams['legend.facecolor'] = 'none'\n",
    "\n",
    "import warnings\n",
    "warnings.filterwarnings(\"ignore\")"
   ]
  },
  {
   "cell_type": "markdown",
   "id": "c234118b",
   "metadata": {},
   "source": [
    "## Eureka! reduced"
   ]
  },
  {
   "cell_type": "code",
   "execution_count": 16,
   "id": "19229807",
   "metadata": {},
   "outputs": [],
   "source": [
    "path = '/Users/belugawhale/Documents/niriss_real/wasp39/Stage2'\n",
    "files = np.sort([os.path.join(path, i) for i in os.listdir(path) if i.endswith('calints.fits')])[:-1]"
   ]
  },
  {
   "cell_type": "code",
   "execution_count": 17,
   "id": "f6244eb2",
   "metadata": {},
   "outputs": [],
   "source": [
    "readnoise = fits.open('/Users/belugawhale/crds_cache/references/jwst/niriss/jwst_niriss_readnoise_0005.fits')\n",
    "wave_soln = fits.open(os.path.join(path, 'jw01366001001_04101_00001-seg002_nis_x1dints.fits'))\n",
    "trace = fits.open('/Users/belugawhale/crds_cache/references/jwst/niriss/jwst_niriss_spectrace_0024.fits')"
   ]
  },
  {
   "cell_type": "markdown",
   "id": "04c83699",
   "metadata": {},
   "source": [
    "# Defining the trace from the reference file"
   ]
  },
  {
   "cell_type": "code",
   "execution_count": 18,
   "id": "0378bcab",
   "metadata": {},
   "outputs": [],
   "source": [
    "trace_guesses = np.full((3,2048), np.nan)\n",
    "for i in range(1,4):\n",
    "    if i == 1:\n",
    "        upp = 2048\n",
    "    elif i == 2:\n",
    "        upp = 1900\n",
    "    else:\n",
    "        upp = 1000\n",
    "    inds = (trace[i].data['x']>=-10) & (trace[i].data['x']<=upp) & (np.isnan(trace[i].data['x'])==False)\n",
    "    interp = interp1d(trace[i].data['x'][inds], trace[i].data['y'][inds])\n",
    "    try:\n",
    "        trace_guesses[i-1][:upp] = interp(np.arange(0,upp,1))\n",
    "    except:\n",
    "        trace_guesses[i-1][:upp-10] = interp(np.arange(0,upp-10,1))\n",
    "        \n",
    "guess_table = Table()\n",
    "guess_table['x'] = np.arange(0,2048,1)\n",
    "for i in range(3):\n",
    "    guess_table['order_{}'.format(i+1)] = trace_guesses[i]"
   ]
  },
  {
   "cell_type": "code",
   "execution_count": 19,
   "id": "8ab36dcd",
   "metadata": {},
   "outputs": [],
   "source": [
    "hdu = fits.open(files[0])\n",
    "order_mask_t1 = dirty_mask(hdu[1].data[0], tab=guess_table, boxsize1=30, boxsize2=30,\n",
    "                   boxsize3=30, return_together=True, booltype=True)\n",
    "order_mask_t2 = dirty_mask(hdu[1].data[0], tab=guess_table, boxsize1=65, boxsize2=45,\n",
    "                           boxsize3=40, return_together=True, booltype=True)\n",
    "order_mask = dirty_mask(hdu[1].data[0], tab=guess_table, boxsize1=30, boxsize2=30,\n",
    "                        boxsize3=30, return_together=False, booltype=True)\n",
    "order_mask_t3 = dirty_mask(hdu[1].data[0], tab=guess_table, boxsize1=70, boxsize2=50,\n",
    "                           boxsize3=40, return_together=True, booltype=True)\n",
    "hdu.close()"
   ]
  },
  {
   "cell_type": "markdown",
   "id": "ab1dab31",
   "metadata": {},
   "source": [
    "# Loading in all data segments & initializing arrays"
   ]
  },
  {
   "cell_type": "code",
   "execution_count": 20,
   "id": "07520398",
   "metadata": {},
   "outputs": [],
   "source": [
    "hdus = []\n",
    "counter = []\n",
    "for i in range(3):\n",
    "    hdus.append(fits.open(os.path.join(path, files[i])))\n",
    "    counter.append(len(hdus[i][1].data))\n",
    "    \n",
    "frames = np.zeros((np.nansum(counter), 256, 2048))\n",
    "variance = np.zeros((np.nansum(counter), 256, 2048))\n",
    "check = np.zeros(3)\n",
    "times = np.zeros(np.nansum(counter))\n",
    "dq = np.zeros((np.nansum(counter), 256, 2048))\n",
    "\n",
    "for i in range(len(counter)):\n",
    "    if i == 0:\n",
    "        start, end = 0, counter[0]\n",
    "    else:\n",
    "        start, end = np.nansum(counter[:i]), np.nansum(counter[:i+1])\n",
    "\n",
    "    frames[start:end] = hdus[i][1].data\n",
    "    variance[start:end] = hdus[i][5].data\n",
    "    dq[start:end] = masking.data_quality_mask(hdus[i][3].data) # makes DQ mask\n",
    "    \n",
    "    times[start:end] = hdus[i][4].data['int_mid_BJD_TDB']\n",
    "    \n",
    "dq_masked = np.zeros(frames.shape)    \n",
    "f277_rmvd = np.zeros(frames.shape)"
   ]
  },
  {
   "cell_type": "markdown",
   "id": "5cbb3812",
   "metadata": {},
   "source": [
    "# Data Quality Mask"
   ]
  },
  {
   "cell_type": "code",
   "execution_count": 21,
   "id": "5ab69d8f",
   "metadata": {
    "scrolled": true
   },
   "outputs": [
    {
     "data": {
      "application/vnd.jupyter.widget-view+json": {
       "model_id": "81b19c73696c4baaa619c4d02cd1f7cd",
       "version_major": 2,
       "version_minor": 0
      },
      "text/plain": [
       "  0%|          | 0/474 [00:00<?, ?it/s]"
      ]
     },
     "metadata": {},
     "output_type": "display_data"
    }
   ],
   "source": [
    "for i in tqdm_notebook(range(len(frames))):\n",
    "    dq_masked[i] = masking.interpolating_image(frames[i], dq[i])"
   ]
  },
  {
   "cell_type": "markdown",
   "id": "75826fef",
   "metadata": {},
   "source": [
    "# Substrip256 Model Background removal\n"
   ]
  },
  {
   "cell_type": "code",
   "execution_count": 22,
   "id": "4df75502",
   "metadata": {},
   "outputs": [],
   "source": [
    "model_bkg = np.load('/Users/belugawhale/Documents/niriss_real/model_background256.npy')"
   ]
  },
  {
   "cell_type": "code",
   "execution_count": 23,
   "id": "dfae48b9",
   "metadata": {},
   "outputs": [
    {
     "data": {
      "application/vnd.jupyter.widget-view+json": {
       "model_id": "cbe9a6cd69034af4b0f27e906f2fbd3c",
       "version_major": 2,
       "version_minor": 0
      },
      "text/plain": [
       "  0%|          | 0/474 [00:00<?, ?it/s]"
      ]
     },
     "metadata": {},
     "output_type": "display_data"
    }
   ],
   "source": [
    "x1,x2,y1,y2 = 190,250,200,500\n",
    "\n",
    "test_vals = np.linspace(0.7,0.95,1000)\n",
    "shape = (y2-y1)*(x2-x1)\n",
    "\n",
    "vals = np.zeros(len(dq_masked))\n",
    "\n",
    "for j in tqdm_notebook(range(len(dq_masked))):\n",
    "    rms = np.zeros(len(test_vals))\n",
    "    for i, v in enumerate(test_vals):\n",
    "        rms[i] = np.sqrt(np.nansum((dq_masked[j][x1:x2,y1:y2]-(model_bkg[x1:x2,y1:y2]*v))**2)/shape)\n",
    "    vals[j] = test_vals[np.argmin(rms)]\n",
    "    #print(test_vals[np.argmin(rms)])"
   ]
  },
  {
   "cell_type": "code",
   "execution_count": 24,
   "id": "e23407de",
   "metadata": {},
   "outputs": [
    {
     "data": {
      "image/png": "[encoded data removed]",
      "text/plain": [
       "<Figure size 1008x288 with 2 Axes>"
      ]
     },
     "metadata": {},
     "output_type": "display_data"
    }
   ],
   "source": [
    "fig, (ax1, ax2) = plt.subplots(ncols=2, figsize=(14,4), gridspec_kw={'width_ratios':[1,2]})\n",
    "fig.set_facecolor('w')\n",
    "ax1.imshow(dq_masked[0], aspect='auto', vmin=-0.1, vmax=10)\n",
    "ax1.set_ylim(x1,x2)\n",
    "ax1.set_xlim(y1,y2)\n",
    "ax1.set_xlabel('x')\n",
    "ax1.set_ylabel('y')\n",
    "\n",
    "ax2.plot(vals)\n",
    "ax2.set_xlabel('Integration')\n",
    "ax2.set_ylabel('Model scaling value')\n",
    "plt.subplots_adjust(wspace=0.3)\n",
    "plt.savefig('/Users/belugawhale/Desktop/model_scale_wasp39.png', dpi=200, rasterize=True,\n",
    "            bbox_inches='tight')"
   ]
  },
  {
   "cell_type": "code",
   "execution_count": null,
   "id": "7d322fbc",
   "metadata": {},
   "outputs": [],
   "source": [
    "model_bkg_rmvd = dq_masked - (model_bkg*np.nanmedian(vals))"
   ]
  },
  {
   "cell_type": "code",
   "execution_count": null,
   "id": "97b30972",
   "metadata": {},
   "outputs": [],
   "source": [
    "plt.imshow(model_bkg_rmvd[0], aspect='auto', vmin=-1, vmax=5)"
   ]
  },
  {
   "cell_type": "markdown",
   "id": "1eaad27d",
   "metadata": {},
   "source": [
    "# Fitting the F277W filter to minimize residuals"
   ]
  },
  {
   "cell_type": "markdown",
   "id": "41ec9ff5",
   "metadata": {},
   "source": [
    "## Loading in best-fit background"
   ]
  },
  {
   "cell_type": "code",
   "execution_count": null,
   "id": "1bea3549",
   "metadata": {},
   "outputs": [],
   "source": [
    "f277bkg_order0 = np.load('f277w_order0_wasp39.npy')"
   ]
  },
  {
   "cell_type": "code",
   "execution_count": null,
   "id": "742deb08",
   "metadata": {},
   "outputs": [],
   "source": [
    "new_bkg = f277bkg_order0-np.nanmedian(f277bkg_order0,axis=0)\n",
    "mask = test > (np.nanmedian(test)+5*np.nanstd(test))\n",
    "new_bkg = gaussian_filter(new_bkg, 1)\n",
    "\n",
    "plt.imshow(new_bkg, vmin=-0.1, vmax=0.5, aspect='auto')\n",
    "plt.xlim(1800, 2040)\n",
    "plt.ylim(150,235)"
   ]
  },
  {
   "cell_type": "code",
   "execution_count": null,
   "id": "ae66ff45",
   "metadata": {},
   "outputs": [],
   "source": [
    "y1,y2,x1,x2 = 900,1100,150,250\n",
    "\n",
    "test_vals = np.linspace(1.5, 2.5,1000)\n",
    "new_bkg   = mask*new_ccd.data\n",
    "shape = (x2-x1) * (y2-y1)\n",
    "\n",
    "scaling_vals = np.zeros(len(dq_masked))\n",
    "\n",
    "for j in tqdm_notebook(range(len(dq_masked))):\n",
    "    rms = np.zeros(len(test_vals))\n",
    "    for i, v in enumerate(test_vals):\n",
    "        rms[i] = np.sqrt(np.nansum((model_bkg_rmvd[j][x1:x2,y1:y2]-(new_bkg[x1:x2,y1:y2]*v))**2)/shape)\n",
    "    scaling_vals[j] = test_vals[np.argmin(rms)]"
   ]
  },
  {
   "cell_type": "code",
   "execution_count": null,
   "id": "1c1a50ff",
   "metadata": {},
   "outputs": [],
   "source": [
    "fig, (ax1, ax2) = plt.subplots(ncols=2, figsize=(14,4), gridspec_kw={'width_ratios':[1,2]})\n",
    "fig.set_facecolor('w')\n",
    "ax1.imshow(new_bkg, aspect='auto', vmin=-0.1, vmax=1)\n",
    "ax1.set_ylim(x1,x2)\n",
    "ax1.set_xlim(y1,y2)\n",
    "ax1.set_xlabel('x')\n",
    "ax1.set_ylabel('y')\n",
    "\n",
    "ax2.plot(scaling_vals)\n",
    "ax2.set_xlabel('Integration')\n",
    "ax2.set_ylabel('F277W scaling value')\n",
    "plt.subplots_adjust(wspace=0.3)\n",
    "plt.savefig('/Users/belugawhale/Desktop/f277w_scale_wasp39.png', dpi=200, rasterize=True,\n",
    "            bbox_inches='tight')"
   ]
  },
  {
   "cell_type": "code",
   "execution_count": null,
   "id": "9bba98e7",
   "metadata": {},
   "outputs": [],
   "source": [
    "fig = plt.figure()\n",
    "fig.set_facecolor('w')\n",
    "\n",
    "plt.imshow(new_bkg, aspect='auto', vmin=-1, vmax=1.5)\n",
    "plt.xlabel('x')\n",
    "plt.ylabel('y')\n",
    "plt.title('F277W \"Model\"')\n",
    "plt.savefig('/Users/belugawhale/Desktop/f277w_filter_wasp39.png', dpi=200, rasterize=True,\n",
    "            bbox_inches='tight')"
   ]
  },
  {
   "cell_type": "code",
   "execution_count": null,
   "id": "aedbd214",
   "metadata": {},
   "outputs": [],
   "source": [
    "f277_rmvd = model_bkg_rmvd - (new_bkg*(np.nanmedian(scaling_vals)/2))"
   ]
  },
  {
   "cell_type": "code",
   "execution_count": null,
   "id": "635adb61",
   "metadata": {},
   "outputs": [],
   "source": [
    "plt.imshow(f277_rmvd[0], vmin=0, vmax=10, aspect='auto')\n",
    "#plt.xlim(1000,1500)"
   ]
  },
  {
   "cell_type": "markdown",
   "id": "7b787d72",
   "metadata": {},
   "source": [
    "# Retracing the trace"
   ]
  },
  {
   "cell_type": "code",
   "execution_count": null,
   "id": "277c929f",
   "metadata": {},
   "outputs": [],
   "source": [
    "med = np.nanmedian(f277_rmvd, axis=0)"
   ]
  },
  {
   "cell_type": "code",
   "execution_count": null,
   "id": "63809c17",
   "metadata": {},
   "outputs": [],
   "source": [
    "%load_ext autoreload\n",
    "%autoreload 2\n",
    "\n",
    "from niriss.tracing_niriss import mask_method_ears"
   ]
  },
  {
   "cell_type": "code",
   "execution_count": null,
   "id": "7d70767d",
   "metadata": {},
   "outputs": [],
   "source": [
    "tab = mask_method_ears(f277_rmvd[0], readnoise=np.nanmedian(readnoise[1].data), \n",
    "                       isplots=4, \n",
    "                       degree=4)"
   ]
  },
  {
   "cell_type": "code",
   "execution_count": null,
   "id": "6022e813",
   "metadata": {},
   "outputs": [],
   "source": [
    "plt.imshow(f277_rmvd[0], aspect='auto', vmin=-5, vmax=10)\n",
    "for i in range(1,4):\n",
    "    plt.plot(guess_table['x'], guess_table['order_{}'.format(i)], lw=2, c='r')\n",
    "    plt.plot(tab['x'], tab['order_{}'.format(i)], lw=3, c='k')\n",
    "plt.ylim(256,0)"
   ]
  },
  {
   "cell_type": "markdown",
   "id": "8cef30ac",
   "metadata": {},
   "source": [
    "## Remaking the Masks"
   ]
  },
  {
   "cell_type": "code",
   "execution_count": null,
   "id": "f75f00d7",
   "metadata": {},
   "outputs": [],
   "source": [
    "order_mask_t1 = dirty_mask(f277_rmvd[0], tab=tab, boxsize1=30, boxsize2=30,\n",
    "                   boxsize3=30, return_together=True, booltype=True)\n",
    "\n",
    "order_mask_t2 = dirty_mask(f277_rmvd[0], tab=tab, boxsize1=70, boxsize2=50,\n",
    "                           boxsize3=30, return_together=True, booltype=True)\n",
    "\n",
    "order_mask = dirty_mask(f277_rmvd[0], tab=tab, boxsize1=30, boxsize2=30,\n",
    "                        boxsize3=20, return_together=False, booltype=True)\n",
    "\n",
    "order_mask_t3 = dirty_mask(f277_rmvd[0], tab=tab, boxsize1=74, boxsize2=74,\n",
    "                           boxsize3=30, return_together=True, booltype=True)"
   ]
  },
  {
   "cell_type": "markdown",
   "id": "90075c47",
   "metadata": {},
   "source": [
    "# Decontaminating 2nd order"
   ]
  },
  {
   "cell_type": "code",
   "execution_count": null,
   "id": "a619021e",
   "metadata": {},
   "outputs": [],
   "source": [
    "bkg_order = dirty_mask(f277_rmvd[0], boxsize1=None, boxsize2=20,\n",
    "                       pos2=guess_table['order_2'],\n",
    "                        return_together=False, booltype=True)"
   ]
  },
  {
   "cell_type": "code",
   "execution_count": null,
   "id": "faa63c6d",
   "metadata": {},
   "outputs": [],
   "source": [
    "plt.figure(figsize=(14,4))\n",
    "plt.imshow(med, aspect='auto', vmin=-4, vmax=5)\n",
    "plt.imshow(bkg_order[1], aspect='auto', cmap='Greys', alpha=0.5)\n",
    "plt.ylim(150,30)\n",
    "plt.xlim(0,2048)\n",
    "xticks = np.linspace(0, 2047, 10, dtype=int)\n",
    "plt.xticks(xticks, labels=np.round(wave_soln[2].data['WAVELENGTH'][xticks],2));"
   ]
  },
  {
   "cell_type": "markdown",
   "id": "da509466",
   "metadata": {},
   "source": [
    "# Using best-fit parameters from F277W filter to get background for data"
   ]
  },
  {
   "cell_type": "markdown",
   "id": "8773a4ba",
   "metadata": {},
   "source": [
    "## Background routines"
   ]
  },
  {
   "cell_type": "code",
   "execution_count": null,
   "id": "407380e9",
   "metadata": {},
   "outputs": [],
   "source": [
    "def mask_bad(data):\n",
    "    nan_mask = np.zeros(data.shape, dtype=bool)\n",
    "    nan_mask[np.isnan(data)] = 1\n",
    "    nan_mask[data <= -1e1] = 1\n",
    "    return masking.interpolating_image(data, nan_mask)  \n",
    "\n",
    "def bkg_processing(data, box=(3,3), filter_size=(3,2), filtersize=10, \n",
    "                   mask=None, bkg_estimator='mmmbackground', sigma=1.5):\n",
    "    global order_mask_t1, order_mask_t2\n",
    "    \n",
    "    if mask is None:\n",
    "        mask = order_mask_t2\n",
    "    \n",
    "    b2, b2_err = background.bkg_sub(data[:250], ~mask[:250], \n",
    "                                    box=box, filter_size=filter_size, bkg_estimator=bkg_estimator,\n",
    "                                    sigma=sigma)\n",
    "    b1, b1_err = background.bkg_sub(data[:250], ~mask[:250], box=(2,5), filter_size=(2,3), \n",
    "                                    bkg_estimator=bkg_estimator,\n",
    "                                    sigma=sigma)\n",
    "    \n",
    "    med = np.nanmedian([b1, b2], axis=0)\n",
    "    \n",
    "    sf = savgol_filter(med, 73, 4)\n",
    "    gf = gaussian_filter(med, filtersize)\n",
    "    return gf, gaussian_filter(b2_err, filtersize)"
   ]
  },
  {
   "cell_type": "code",
   "execution_count": null,
   "id": "8d663b44",
   "metadata": {},
   "outputs": [],
   "source": [
    "cr_rmvd = np.zeros(frames.shape)\n",
    "backgrounds = np.zeros(frames.shape)\n",
    "subbed = np.zeros(frames.shape)\n",
    "\n",
    "cr_rmvd_var = np.zeros(frames.shape)\n",
    "subbed_var = np.zeros(frames.shape)\n",
    "backgrounds_var = np.zeros(frames.shape)"
   ]
  },
  {
   "cell_type": "code",
   "execution_count": null,
   "id": "d91c32ba",
   "metadata": {},
   "outputs": [],
   "source": [
    "order_mask_t3 = dirty_mask(f277_rmvd[0],boxsize1=100, boxsize2=80,\n",
    "                           boxsize3=30, \n",
    "                           pos1=tab['order_1']+10,\n",
    "                           pos2=tab['order_2'],\n",
    "                           pos3=tab['order_3']-2,\n",
    "                           return_together=True, booltype=True)\n",
    "order_mask_t3[:90, 1700:] = False"
   ]
  },
  {
   "cell_type": "code",
   "execution_count": null,
   "id": "08ebe626",
   "metadata": {},
   "outputs": [],
   "source": [
    "plt.figure(figsize=(14,4))\n",
    "plt.imshow(f277_rmvd[0], vmin=-2, vmax=5, aspect='auto')"
   ]
  },
  {
   "cell_type": "code",
   "execution_count": null,
   "id": "7a4a618d",
   "metadata": {
    "scrolled": false
   },
   "outputs": [],
   "source": [
    "fig, (ax1, ax2, ax3, ax4) = plt.subplots(ncols=4, figsize=(20,4), sharex=True)\n",
    "\n",
    "all_traces = Table()\n",
    "rms = 0\n",
    "\n",
    "overall=True\n",
    "test=False\n",
    "\n",
    "if test:\n",
    "    length = 3\n",
    "else:\n",
    "    length = len(cr_rmvd)\n",
    "\n",
    "for i in tqdm_notebook(range(length)):\n",
    "\n",
    "    ccd = CCDData(model_bkg_rmvd[i], unit=units.electron)\n",
    "    new_ccd = ccdp.cosmicray_lacosmic(ccd, \n",
    "                                      readnoise=np.nanmedian(readnoise[1].data), \n",
    "                                      sigclip=4, verbose=False)\n",
    "    \n",
    "    var = variance[i] * ~new_ccd.mask # Cosmic ray masked + filled\n",
    "    \n",
    "    rmvd = new_ccd.data - np.nanmedian(new_ccd.data, axis=0) # subtracting median along the column\n",
    "\n",
    "    new_tab = mask_method_ears(rmvd, readnoise=np.nanmedian(readnoise[1].data), isplots=1) # tracing\n",
    "    for o in range(1,4):\n",
    "        all_traces.add_column(Column(new_tab['order_{}'.format(o)], 'order_{0}_frame_{1}'.format(o, i)))\n",
    "    \n",
    "    # removing additional bad pixels\n",
    "    cr_rmvd[i] = mask_bad(rmvd)\n",
    "    cr_rmvd_var[i] = mask_bad(var)\n",
    "    \n",
    "    bkg_data, bkg_err = bkg_processing(cr_rmvd[i], box=(3,10), filter_size=(2,5), \n",
    "                                       filtersize=10, mask=order_mask_t3, sigma=2)\n",
    "    #bkg_var  = bkg_processing(cr_rmvd_var[i], box=(2,2), filter_size=(3,2), filtersize=8)\n",
    "    \n",
    "    backgrounds[i, :250] = bkg_data\n",
    "    \n",
    "    subbed[i] = cr_rmvd[i]# - backgrounds[i] #- np.nanmedian(cr_rmvd[i] - backgrounds[i], axis=0)\n",
    "    subbed_var[i][:250] = cr_rmvd_var[i][:250] #+ bkg_err \n",
    "    \n",
    "    \n",
    "    if overall:\n",
    "        ax1.plot(i, np.nansum(new_ccd.data*order_mask[0]), 'o')\n",
    "        ax3.plot(i, np.nansum(cr_rmvd[i]*order_mask[0]), 'o')\n",
    "        ax2.plot(i, np.nansum(rmvd*order_mask[0]), 'o')\n",
    "        ax4.errorbar(i, np.nansum(subbed[i]*order_mask[0]), \n",
    "                     yerr=np.sqrt(np.nansum(subbed_var[i]*order_mask[0])), color='k', marker='o')\n",
    "    else:\n",
    "        plt.close()\n",
    "        fig, (ax1, ax2, ax3) = plt.subplots(nrows=3, figsize=(20,10), sharex=True)\n",
    "        ax1.imshow(rmvd, aspect='auto', vmin=-5, vmax=1)\n",
    "        ax2.imshow(backgrounds[i], aspect='auto', vmin=-1, vmax=1)\n",
    "        ax3.imshow(subbed[i], aspect='auto', vmin=-5, vmax=2)\n",
    "        plt.show()\n",
    "    \n",
    "    \n",
    "    \n",
    "    rms += np.nansum(subbed[i]*order_mask[0])**2\n",
    "    \n",
    "print('RMS = ', np.sqrt(rms/i))\n",
    "    \n",
    "ax1.set_title('Removed cosmic rays')\n",
    "ax2.set_title('Removed f277w background')\n",
    "ax3.set_title('Removed and interpolated\\nover bad pixels')\n",
    "ax4.set_title('Removed full\\n2d background')\n",
    "ax1.set_ylabel('Flux')\n",
    "plt.show()"
   ]
  },
  {
   "cell_type": "code",
   "execution_count": null,
   "id": "f7c261e0",
   "metadata": {},
   "outputs": [],
   "source": [
    "med_bkg = np.nanmedian(backgrounds, axis=0)"
   ]
  },
  {
   "cell_type": "code",
   "execution_count": null,
   "id": "175fe350",
   "metadata": {},
   "outputs": [],
   "source": [
    "plt.figure(figsize=(10,5))\n",
    "plt.imshow(gaussian_filter(med_bkg, 30), aspect='auto')\n",
    "plt.colorbar();"
   ]
  },
  {
   "cell_type": "code",
   "execution_count": null,
   "id": "4daf1218",
   "metadata": {},
   "outputs": [],
   "source": [
    "subbed_v2 = subbed - med_bkg"
   ]
  },
  {
   "cell_type": "markdown",
   "id": "019d55ef",
   "metadata": {},
   "source": [
    "## Checking for bad integrations"
   ]
  },
  {
   "cell_type": "code",
   "execution_count": null,
   "id": "356a2993",
   "metadata": {},
   "outputs": [],
   "source": [
    "order_mask = dirty_mask(subbed[0], tab=tab, boxsize1=30, boxsize2=30,\n",
    "                        boxsize3=30, return_together=False, booltype=True)"
   ]
  },
  {
   "cell_type": "code",
   "execution_count": null,
   "id": "5ded01e7",
   "metadata": {},
   "outputs": [],
   "source": [
    "y = np.nansum(subbed*order_mask[0], axis=(1,2))\n",
    "yerr = np.sqrt(np.nansum((subbed_var*order_mask[0])**2, axis=(1,2)))"
   ]
  },
  {
   "cell_type": "code",
   "execution_count": null,
   "id": "e9041508",
   "metadata": {
    "scrolled": true
   },
   "outputs": [],
   "source": [
    "plt.figure(figsize=(14,4))\n",
    "plt.errorbar(times, y/np.nanmedian(y), \n",
    "             yerr=yerr/np.nanmedian(y)*2, \n",
    "             color='k', marker='.', linestyle='')\n",
    "#plt.xlim(times[100]-0.5, times[200]-0.5)\n",
    "plt.ylim(0.975, 0.98)"
   ]
  },
  {
   "cell_type": "code",
   "execution_count": null,
   "id": "464287d4",
   "metadata": {},
   "outputs": [],
   "source": [
    "j = 52\n",
    "fig, (ax1,ax2,ax3) = plt.subplots(ncols=3, figsize=(14,4), sharex=True, sharey=True)\n",
    "fig.set_facecolor('w')\n",
    "ax1.imshow(frames[j], aspect='auto', vmin=0, vmax=200)\n",
    "ax1.set_title('Integration')\n",
    "ax2.imshow(dq[j]*frames[j], aspect='auto', vmin=0, vmax=1)\n",
    "ax2.set_title('DQ Mask')\n",
    "ax3.imshow(dq_masked[j], aspect='auto', vmin=0, vmax=200)\n",
    "ax3.set_title('DQ masked &\\ninterpolated Integration')\n",
    "\n",
    "#plt.xlim(1500,2000)\n",
    "#plt.ylim(100,0)\n",
    "\n",
    "#plt.savefig('/Users/belugawhale/Desktop/dq_comp.png', dpi=300,\n",
    "#            rasterize=True, bbox_inches='tight')"
   ]
  },
  {
   "cell_type": "markdown",
   "id": "96400dfc",
   "metadata": {},
   "source": [
    "# Box Extraction"
   ]
  },
  {
   "cell_type": "code",
   "execution_count": null,
   "id": "d7b5ccc8",
   "metadata": {},
   "outputs": [],
   "source": [
    "#box_s, box_v = box_extract(subbed, subbed_var, order_mask)\n",
    "box_s_2, box_v_2 = box_extract(frames, variance, order_mask)"
   ]
  },
  {
   "cell_type": "code",
   "execution_count": null,
   "id": "491b0d9b",
   "metadata": {},
   "outputs": [],
   "source": [
    "%matplotlib notebook\n",
    "plt.figure(figsize=(1,4))\n",
    "plt.errorbar(wave_soln[2].data['WAVELENGTH'], box_s[0][0], yerr=box_v[0][0]/2, marker='.',\n",
    "             linestyle='-')\n",
    "plt.errorbar(wave_soln[2].data['WAVELENGTH'], box_s_2[0][0]+500, yerr=box_v_2[0][0]/2, marker='.',\n",
    "             linestyle='')\n",
    "\n"
   ]
  },
  {
   "cell_type": "markdown",
   "id": "3ce8d3da",
   "metadata": {},
   "source": [
    "# Optimal Extraction"
   ]
  },
  {
   "cell_type": "code",
   "execution_count": null,
   "id": "a286021f",
   "metadata": {},
   "outputs": [],
   "source": [
    "medframe = np.nanmedian(subbed,axis=0)"
   ]
  },
  {
   "cell_type": "code",
   "execution_count": null,
   "id": "57c42e30",
   "metadata": {},
   "outputs": [],
   "source": [
    "opt_s, opt_e, opt_p = optimal_extraction_routine(subbed, \n",
    "                                                 np.sqrt(subbed_var),\n",
    "                                                 spectrum=box_s,\n",
    "                                                 spectrum_var=np.sqrt(box_v),\n",
    "                                                 sky_bkg=backgrounds,\n",
    "                                                 pos1=tab['order_1'],\n",
    "                                                 pos2=tab['order_2'],\n",
    "                                                 medframe=medframe,\n",
    "                                                 per_quad=True,\n",
    "                                                 sigma=80,\n",
    "                                                 test=False, isplots=1)"
   ]
  },
  {
   "cell_type": "code",
   "execution_count": null,
   "id": "fc033f06",
   "metadata": {},
   "outputs": [],
   "source": [
    "opt_order1 = np.zeros((len(times), 2048))\n",
    "optvar_order1 = np.zeros((len(times), 2048))\n",
    "for i in range(3):\n",
    "    offset = np.nanmedian([opt_s[2][i][-100:] - opt_s[0][i][100]])\n",
    "    opt_order1[i] = np.append(opt_s[2][i]+offset, opt_s[0][i])\n",
    "    \n",
    "    offset = np.nanmedian([opt_e[2][i][-100:] - opt_e[0][i][100]])\n",
    "    optvar_order1[i] = np.sqrt(np.append(opt_e[2][i]+offset, opt_e[0][i]))*2"
   ]
  },
  {
   "cell_type": "code",
   "execution_count": null,
   "id": "eeb5977b",
   "metadata": {},
   "outputs": [],
   "source": [
    "opt_order2 = np.zeros((len(times), 2048))\n",
    "optvar_order2 = np.zeros((len(times), 2048))\n",
    "for i in range(3):\n",
    "    opt_order2[i][1000:1900] = opt_s[1][i]\n",
    "    optvar_order2[i][1000:1900] = np.sqrt(opt_e[1][i])*2"
   ]
  },
  {
   "cell_type": "code",
   "execution_count": null,
   "id": "acb9a604",
   "metadata": {},
   "outputs": [],
   "source": [
    "opt_order3 = np.zeros((len(times), 2048))\n",
    "optvar_order3 = np.zeros((len(times), 2048))\n",
    "for i in range(3):\n",
    "    opt_order3[i][:1000] = opt_s[-1][i]\n",
    "    optvar_order3[i][:1000] = np.sqrt(opt_e[-1][i])*2"
   ]
  },
  {
   "cell_type": "code",
   "execution_count": null,
   "id": "2c52e131",
   "metadata": {},
   "outputs": [],
   "source": [
    "text = np.loadtxt('/Users/belugawhale/Downloads/stellar_spec_for_Adina.txt')"
   ]
  },
  {
   "cell_type": "code",
   "execution_count": null,
   "id": "0fd6f692",
   "metadata": {},
   "outputs": [],
   "source": [
    "%matplotlib notebook\n",
    "plt.figure(figsize=(1,1))\n",
    "plt.plot(np.arange(0,2048,1), opt_order1[0])#, yerr=box_v_2[0][0], marker='.',\n",
    "            # linestyle='')\n",
    "plt.plot(np.arange(0,2048,1), box_s[0][0])#, #yerr=box_v[0][0], marker='.',\n",
    "             #linestyle='')\n",
    "plt.plot(np.arange(4,2044,1), text, color='k', zorder=100)\n",
    "#plt.xlim(1,1.3)\n",
    "#plt.ylim(5000,9000)"
   ]
  },
  {
   "cell_type": "code",
   "execution_count": null,
   "id": "37f5d1bf",
   "metadata": {
    "scrolled": false
   },
   "outputs": [],
   "source": [
    "plt.close()\n",
    "plt.figure(figsize=(1,1))\n",
    "plt.imshow(frames[100], vmin=0, vmax=500)\n",
    "plt.colorbar()\n",
    "plt.xlim(1680, 1800)\n",
    "plt.ylim(80,20)"
   ]
  },
  {
   "cell_type": "markdown",
   "id": "7cfb2c9e",
   "metadata": {},
   "source": [
    "# Write file"
   ]
  },
  {
   "cell_type": "code",
   "execution_count": null,
   "id": "6abcd83a",
   "metadata": {},
   "outputs": [],
   "source": [
    "data = h5py.File('ADF_extracted_wasp39_v3.h5', 'w')\n",
    "\n",
    "goodinds = np.arange(0, len(times), 1, dtype=int)\n",
    "\n",
    "data.create_dataset('time', data=times[goodinds]+0.5)\n",
    "\n",
    "data.create_dataset('cr_rmvd_flux', data=cr_rmvd[goodinds])\n",
    "data.create_dataset('backgrounds', data=backgrounds[goodinds])\n",
    "data.create_dataset('clean_flux', data=subbed_v2[goodinds])\n",
    "\n",
    "data.create_dataset('cr_rmvd_var', data=cr_rmvd_var[goodinds])\n",
    "data.create_dataset('backgrounds_var', data=backgrounds_var[goodinds])\n",
    "data.create_dataset('clean_variance', data=subbed_var[goodinds])\n",
    "\n",
    "for i in range(1,4):\n",
    "    data.create_dataset('box_extracted_flux_order_{}'.format(i), data=box_s[i-1][goodinds])\n",
    "    data.create_dataset('box_extracted_var_order_{}'.format(i), data=box_v[i-1][goodinds])\n",
    "    \n",
    "    \"\"\"\n",
    "    if i == 1:\n",
    "        data.create_dataset('opt_flux_order_{}'.format(i), data=opt_order1[goodinds])\n",
    "        data.create_dataset('opt_var_order_{}'.format(i), data=optvar_order1[goodinds])\n",
    "    elif i == 2:\n",
    "        data.create_dataset('opt_flux_order_{}'.format(i), data=opt_order2[goodinds])\n",
    "        data.create_dataset('opt_var_order_{}'.format(i), data=optvar_order2[goodinds])\n",
    "    else:\n",
    "        data.create_dataset('opt_flux_order_{}'.format(i), data=opt_order3[goodinds])\n",
    "        data.create_dataset('opt_var_order_{}'.format(i), data=optvar_order3[goodinds])\n",
    "    \"\"\"\n",
    "\n",
    "data.create_dataset('wavelength_order_1', data=wave_soln[2].data['WAVELENGTH'])\n",
    "data.create_dataset('wavelength_order_2', data=wave_soln[3].data['WAVELENGTH'])\n",
    "data.create_dataset('wavelength_order_3', data=wave_soln[4].data['WAVELENGTH'])\n",
    "\n",
    "data.close()"
   ]
  },
  {
   "cell_type": "code",
   "execution_count": null,
   "id": "3d04a551",
   "metadata": {},
   "outputs": [],
   "source": [
    "all_traces.write('ADF_wasp39_traces_v3.txt', format='csv', overwrite=True)"
   ]
  },
  {
   "cell_type": "code",
   "execution_count": null,
   "id": "9e3890c4",
   "metadata": {},
   "outputs": [],
   "source": [
    "np.save('ADF_wasp-39_med_frame_v3.npy', np.nanmedian(subbed,axis=0))"
   ]
  },
  {
   "cell_type": "code",
   "execution_count": 8,
   "id": "44167980",
   "metadata": {},
   "outputs": [
    {
     "name": "stderr",
     "output_type": "stream",
     "text": [
      "/Users/belugawhale/opt/anaconda3/lib/python3.9/site-packages/numpy/core/_asarray.py:171: VisibleDeprecationWarning: Creating an ndarray from ragged nested sequences (which is a list-or-tuple of lists-or-tuples-or ndarrays with different lengths or shapes) is deprecated. If you meant to do this, you must specify 'dtype=object' when creating the ndarray.\n",
      "  return array(a, dtype, copy=False, order=order, subok=True)\n"
     ]
    }
   ],
   "source": [
    "for i in range(3):\n",
    "    np.save('ADF_wasp-39_order{}_stellar_spectra_v3.npy'.format(i+1),\n",
    "            [np.array(data['time']), \n",
    "             np.array(data['wavelength_order_{}'.format(i+1)]), \n",
    "             np.array(data['box_extracted_flux_order_{}'.format(i+1)]), \n",
    "             np.array(data['box_extracted_var_order_{}'.format(i+1)]) ])"
   ]
  }
 ],
 "metadata": {
  "kernelspec": {
   "display_name": "Python 3 (ipykernel)",
   "language": "python",
   "name": "python3"
  },
  "language_info": {
   "codemirror_mode": {
    "name": "ipython",
    "version": 3
   },
   "file_extension": ".py",
   "mimetype": "text/x-python",
   "name": "python",
   "nbconvert_exporter": "python",
   "pygments_lexer": "ipython3",
   "version": "3.9.7"
  }
 },
 "nbformat": 4,
 "nbformat_minor": 5
}
